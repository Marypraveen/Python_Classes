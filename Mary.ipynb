{
 "cells": [
  {
   "cell_type": "code",
   "execution_count": 1,
   "metadata": {},
   "outputs": [
    {
     "name": "stdout",
     "output_type": "stream",
     "text": [
      " mary\n"
     ]
    }
   ],
   "source": [
    "print(\" mary\")"
   ]
  },
  {
   "cell_type": "code",
   "execution_count": 2,
   "metadata": {},
   "outputs": [],
   "source": [
    "a=[2,98,46]\n",
    "a.append(\"Blessy\")"
   ]
  },
  {
   "cell_type": "code",
   "execution_count": 3,
   "metadata": {},
   "outputs": [
    {
     "data": {
      "text/plain": [
       "[2, 98, 46, 'Blessy']"
      ]
     },
     "execution_count": 3,
     "metadata": {},
     "output_type": "execute_result"
    }
   ],
   "source": [
    "a"
   ]
  },
  {
   "cell_type": "code",
   "execution_count": 2,
   "metadata": {},
   "outputs": [],
   "source": [
    "x=2\n",
    "y=7\n"
   ]
  },
  {
   "cell_type": "code",
   "execution_count": 3,
   "metadata": {},
   "outputs": [
    {
     "data": {
      "text/plain": [
       "9"
      ]
     },
     "execution_count": 3,
     "metadata": {},
     "output_type": "execute_result"
    }
   ],
   "source": [
    "x+y"
   ]
  },
  {
   "cell_type": "code",
   "execution_count": 4,
   "metadata": {},
   "outputs": [
    {
     "data": {
      "text/plain": [
       "11"
      ]
     },
     "execution_count": 4,
     "metadata": {},
     "output_type": "execute_result"
    }
   ],
   "source": [
    "_+x\n"
   ]
  },
  {
   "cell_type": "code",
   "execution_count": 7,
   "metadata": {},
   "outputs": [
    {
     "name": "stdout",
     "output_type": "stream",
     "text": [
      "Im a good \\nboy\n"
     ]
    }
   ],
   "source": [
    "print(r\"Im a good \\nboy\")"
   ]
  },
  {
   "cell_type": "code",
   "execution_count": 8,
   "metadata": {},
   "outputs": [],
   "source": [
    "r={\"mary\":35, \"akshay\":24}"
   ]
  },
  {
   "cell_type": "code",
   "execution_count": 9,
   "metadata": {},
   "outputs": [
    {
     "data": {
      "text/plain": [
       "dict"
      ]
     },
     "execution_count": 9,
     "metadata": {},
     "output_type": "execute_result"
    }
   ],
   "source": [
    "type(r)"
   ]
  },
  {
   "cell_type": "code",
   "execution_count": 10,
   "metadata": {},
   "outputs": [
    {
     "name": "stdout",
     "output_type": "stream",
     "text": [
      "35\n"
     ]
    }
   ],
   "source": [
    "print(r[\"mary\"])"
   ]
  },
  {
   "cell_type": "code",
   "execution_count": 12,
   "metadata": {},
   "outputs": [
    {
     "name": "stdout",
     "output_type": "stream",
     "text": [
      "24\n"
     ]
    }
   ],
   "source": [
    "print(r[\"akshay\"])"
   ]
  },
  {
   "cell_type": "code",
   "execution_count": 13,
   "metadata": {},
   "outputs": [],
   "source": [
    "r[\"akshay\"]=22"
   ]
  },
  {
   "cell_type": "code",
   "execution_count": 14,
   "metadata": {},
   "outputs": [
    {
     "data": {
      "text/plain": [
       "{'mary': 35, 'akshay': 22}"
      ]
     },
     "execution_count": 14,
     "metadata": {},
     "output_type": "execute_result"
    }
   ],
   "source": [
    "r"
   ]
  },
  {
   "cell_type": "code",
   "execution_count": 24,
   "metadata": {},
   "outputs": [],
   "source": [
    "t={\"emp_id\":1002,\"empl_name\":\"sony\"}"
   ]
  },
  {
   "cell_type": "code",
   "execution_count": 16,
   "metadata": {},
   "outputs": [],
   "source": [
    "t[\"emp_id\"]=1005"
   ]
  },
  {
   "cell_type": "code",
   "execution_count": 17,
   "metadata": {},
   "outputs": [
    {
     "data": {
      "text/plain": [
       "{'emp_id': 1005, 'empl_name': 'sony'}"
      ]
     },
     "execution_count": 17,
     "metadata": {},
     "output_type": "execute_result"
    }
   ],
   "source": [
    "t"
   ]
  },
  {
   "cell_type": "code",
   "execution_count": 22,
   "metadata": {},
   "outputs": [],
   "source": [
    "t={\"mary\",\"Blessy\"}"
   ]
  },
  {
   "cell_type": "code",
   "execution_count": 19,
   "metadata": {},
   "outputs": [
    {
     "data": {
      "text/plain": [
       "set"
      ]
     },
     "execution_count": 19,
     "metadata": {},
     "output_type": "execute_result"
    }
   ],
   "source": [
    "type(t)"
   ]
  },
  {
   "cell_type": "code",
   "execution_count": 21,
   "metadata": {},
   "outputs": [
    {
     "data": {
      "text/plain": [
       "{'emp_id': 1002, 'empl_name': 'sony'}"
      ]
     },
     "execution_count": 21,
     "metadata": {},
     "output_type": "execute_result"
    }
   ],
   "source": [
    "t"
   ]
  },
  {
   "cell_type": "code",
   "execution_count": 23,
   "metadata": {},
   "outputs": [
    {
     "data": {
      "text/plain": [
       "{'Blessy', 'mary'}"
      ]
     },
     "execution_count": 23,
     "metadata": {},
     "output_type": "execute_result"
    }
   ],
   "source": [
    "t"
   ]
  },
  {
   "cell_type": "code",
   "execution_count": 25,
   "metadata": {},
   "outputs": [
    {
     "data": {
      "text/plain": [
       "{'emp_id': 1002, 'empl_name': 'sony'}"
      ]
     },
     "execution_count": 25,
     "metadata": {},
     "output_type": "execute_result"
    }
   ],
   "source": [
    "t"
   ]
  },
  {
   "cell_type": "code",
   "execution_count": 26,
   "metadata": {},
   "outputs": [],
   "source": [
    "t[\"location\"]=\"canada\""
   ]
  },
  {
   "cell_type": "code",
   "execution_count": 27,
   "metadata": {},
   "outputs": [
    {
     "data": {
      "text/plain": [
       "{'emp_id': 1002, 'empl_name': 'sony', 'location': 'canada'}"
      ]
     },
     "execution_count": 27,
     "metadata": {},
     "output_type": "execute_result"
    }
   ],
   "source": [
    "t"
   ]
  },
  {
   "cell_type": "code",
   "execution_count": 28,
   "metadata": {},
   "outputs": [],
   "source": [
    "del t[\"location\"]"
   ]
  },
  {
   "cell_type": "code",
   "execution_count": 29,
   "metadata": {},
   "outputs": [
    {
     "data": {
      "text/plain": [
       "{'emp_id': 1002, 'empl_name': 'sony'}"
      ]
     },
     "execution_count": 29,
     "metadata": {},
     "output_type": "execute_result"
    }
   ],
   "source": [
    "t"
   ]
  },
  {
   "cell_type": "code",
   "execution_count": 31,
   "metadata": {},
   "outputs": [
    {
     "name": "stdout",
     "output_type": "stream",
     "text": [
      "you can vote\n"
     ]
    }
   ],
   "source": [
    "#condition statements\n",
    "age=int(input(\"enter your age to check you are eligiable for voting or not :\"))\n",
    "\n",
    "if age <18:\n",
    "    print(\"your age is less\")\n",
    "\n",
    "else:\n",
    "    print(\"you can vote\")\n"
   ]
  },
  {
   "cell_type": "code",
   "execution_count": 33,
   "metadata": {},
   "outputs": [
    {
     "name": "stdout",
     "output_type": "stream",
     "text": [
      "your age is less\n"
     ]
    }
   ],
   "source": [
    "age=int(input(\"enter your age to check you are eligiable for voting or not :\"))\n",
    "\n",
    "if age <18:\n",
    "    print(\"your age is less\")\n",
    "\n",
    "elif age ==18 :\n",
    "    print(\"still you can vote\")  \n",
    "\n",
    "else:\n",
    "    print(\"you can vote\")\n",
    "\n"
   ]
  },
  {
   "cell_type": "code",
   "execution_count": null,
   "metadata": {},
   "outputs": [
    {
     "name": "stdout",
     "output_type": "stream",
     "text": [
      "The second-largest number is: 100.0\n"
     ]
    }
   ],
   "source": [
    "# Program to find the second-largest number from three numbers\n",
    "\n",
    "# Input the three numbers\n",
    "num1 = float(input(\"Enter the first number: \"))\n",
    "num2 = float(input(\"Enter the second number: \"))\n",
    "num3 = float(input(\"Enter the third number: \"))\n",
    "\n",
    "# num1 = 10\n",
    "# num2 = 20\n",
    "# num3 = 30\n",
    "\n",
    "# Compare the numbers to find the second-largest\n",
    "if num1 >= num2 and num1 >= num3:\n",
    "    if num2 >= num3:\n",
    "        second_largest = num2\n",
    "    else:\n",
    "        second_largest = num3\n",
    "elif num2 >= num1 and num2 >= num3:\n",
    "    if num1 >= num3:\n",
    "        second_largest = num1\n",
    "    else:\n",
    "        second_largest = num3\n",
    "else:\n",
    "    if num1 >= num2:\n",
    "        second_largest = num1\n",
    "    else:\n",
    "        second_largest = num2\n",
    "\n",
    "# Print the second-largest number\n",
    "print(\"The second-largest number is:\", second_largest)\n"
   ]
  },
  {
   "cell_type": "code",
   "execution_count": 36,
   "metadata": {},
   "outputs": [
    {
     "name": "stdout",
     "output_type": "stream",
     "text": [
      "['tina', 'sony', 'Rita']\n"
     ]
    }
   ],
   "source": [
    "a=[\"tina\",\"sony\",\"Rita\"\"sony\",]\n",
    "print(a)"
   ]
  },
  {
   "cell_type": "code",
   "execution_count": 37,
   "metadata": {},
   "outputs": [],
   "source": [
    "a.append(\"john\")"
   ]
  },
  {
   "cell_type": "code",
   "execution_count": 38,
   "metadata": {},
   "outputs": [
    {
     "name": "stdout",
     "output_type": "stream",
     "text": [
      "['tina', 'sony', 'Rita', 'john']\n"
     ]
    }
   ],
   "source": [
    "print(a)"
   ]
  },
  {
   "cell_type": "code",
   "execution_count": 39,
   "metadata": {},
   "outputs": [
    {
     "data": {
      "text/plain": [
       "1"
      ]
     },
     "execution_count": 39,
     "metadata": {},
     "output_type": "execute_result"
    }
   ],
   "source": [
    "a.count(\"sony\")"
   ]
  },
  {
   "cell_type": "code",
   "execution_count": 42,
   "metadata": {},
   "outputs": [],
   "source": [
    "a=[\"tina\",\"sony\",\"Rita\",\"sony\",]\n",
    "a.extend(\"PHD\")"
   ]
  },
  {
   "cell_type": "code",
   "execution_count": 43,
   "metadata": {},
   "outputs": [
    {
     "name": "stdout",
     "output_type": "stream",
     "text": [
      "['tina', 'sony', 'Rita', 'sony', 'P', 'H', 'D']\n"
     ]
    }
   ],
   "source": [
    "print(a)"
   ]
  },
  {
   "cell_type": "code",
   "execution_count": 46,
   "metadata": {},
   "outputs": [
    {
     "data": {
      "text/plain": [
       "2"
      ]
     },
     "execution_count": 46,
     "metadata": {},
     "output_type": "execute_result"
    }
   ],
   "source": [
    "a.index(\"Rita\")"
   ]
  },
  {
   "cell_type": "code",
   "execution_count": 49,
   "metadata": {},
   "outputs": [],
   "source": [
    "a.insert(2,\"Mrs\")"
   ]
  },
  {
   "cell_type": "code",
   "execution_count": 50,
   "metadata": {},
   "outputs": [
    {
     "name": "stdout",
     "output_type": "stream",
     "text": [
      "['tina', 'sony', 'Mrs', 'Rita', 'sony', 'P', 'H', 'D']\n"
     ]
    }
   ],
   "source": [
    "print(a)"
   ]
  },
  {
   "cell_type": "code",
   "execution_count": 51,
   "metadata": {},
   "outputs": [
    {
     "data": {
      "text/plain": [
       "'D'"
      ]
     },
     "execution_count": 51,
     "metadata": {},
     "output_type": "execute_result"
    }
   ],
   "source": [
    "a.pop()"
   ]
  },
  {
   "cell_type": "code",
   "execution_count": 52,
   "metadata": {},
   "outputs": [
    {
     "name": "stdout",
     "output_type": "stream",
     "text": [
      "['tina', 'sony', 'Rita']\n"
     ]
    }
   ],
   "source": [
    "a=[\"tina\",\"sony\",\"Rita\",\"sony\",]\n",
    "x=a.pop()\n",
    "print(a)"
   ]
  },
  {
   "cell_type": "code",
   "execution_count": 53,
   "metadata": {},
   "outputs": [
    {
     "data": {
      "text/plain": [
       "'sony'"
      ]
     },
     "execution_count": 53,
     "metadata": {},
     "output_type": "execute_result"
    }
   ],
   "source": [
    "a=[\"tina\",\"sony\",\"Rita\",\"sony\",]\n",
    "a.pop()\n"
   ]
  },
  {
   "cell_type": "code",
   "execution_count": 55,
   "metadata": {},
   "outputs": [
    {
     "name": "stdout",
     "output_type": "stream",
     "text": [
      "['Rita', 'sony', 'tina']\n"
     ]
    }
   ],
   "source": [
    "a.sort()\n",
    "print(a)"
   ]
  },
  {
   "cell_type": "code",
   "execution_count": 2,
   "metadata": {},
   "outputs": [],
   "source": []
  },
  {
   "cell_type": "code",
   "execution_count": 5,
   "metadata": {},
   "outputs": [
    {
     "name": "stdout",
     "output_type": "stream",
     "text": [
      "Too low! Try again.\n",
      "Too high! Try again.\n",
      "Congratulations! You guessed the secret number.\n"
     ]
    }
   ],
   "source": [
    "# Secret number to guess\n",
    "secret_number = 7\n",
    "\n",
    "# Initialize the variable for user input\n",
    "guess = None\n",
    "\n",
    "# Prompt the user to guess until they get it right\n",
    "while guess != secret_number:\n",
    "    # Get the user's guess as input\n",
    "    guess = int(input(\"Guess the secret number (between 1 and 10): \"))\n",
    "    \n",
    "    # Provide feedback based on the guess\n",
    "    if guess < secret_number:\n",
    "        print(\"Too low! Try again.\")\n",
    "    elif guess > secret_number:\n",
    "        print(\"Too high! Try again.\")\n",
    "    else:\n",
    "      print(\"Congratulations! You guessed the secret number.\")\n"
   ]
  },
  {
   "cell_type": "code",
   "execution_count": 7,
   "metadata": {},
   "outputs": [
    {
     "name": "stdout",
     "output_type": "stream",
     "text": [
      "1\n",
      "3\n",
      "5\n",
      "7\n",
      "9\n"
     ]
    }
   ],
   "source": [
    "for i in range(1,10,2):\n",
    "    print(i)"
   ]
  },
  {
   "cell_type": "code",
   "execution_count": 2,
   "metadata": {},
   "outputs": [
    {
     "name": "stdout",
     "output_type": "stream",
     "text": [
      "Invalid input! Please enter a number.\n",
      "Invalid input! Please enter a number.\n",
      "Division by zero is not allowed! Please enter a non-zero number for the second input.\n",
      "The result of 0.0 divided by 8.0 is 0.0\n"
     ]
    }
   ],
   "source": [
    "while True:\n",
    "    try:\n",
    "        # Prompt the user to enter two numbers\n",
    "        num1 = float(input(\"Enter the first number: \"))\n",
    "        num2 = float(input(\"Enter the second number: \"))\n",
    "        \n",
    "        # Try to divide the first number by the second number\n",
    "        result = num1 / num2\n",
    "        print(f\"The result of {num1} divided by {num2} is {result}\")\n",
    "        break  # Exit the loop if division is successful\n",
    "    except ValueError:\n",
    "        # Handle the error if the user does not enter a number\n",
    "        print(\"Invalid input! Please enter a number.\")\n",
    "\n",
    "    \n",
    "    except ZeroDivisionError:\n",
    "        # Handle the error if the user tries to divide by zero\n",
    "        print(\"Division by zero is not allowed! Please enter a non-zero number for the second input.\")"
   ]
  },
  {
   "cell_type": "code",
   "execution_count": 24,
   "metadata": {},
   "outputs": [
    {
     "name": "stdout",
     "output_type": "stream",
     "text": [
      "6 * 1 = 6\n",
      "6 * 2 = 12\n",
      "6 * 3 = 18\n",
      "6 * 4 = 24\n",
      "6 * 5 = 30\n",
      "6 * 6 = 36\n",
      "6 * 7 = 42\n",
      "6 * 8 = 48\n",
      "6 * 9 = 54\n",
      "6 * 10 = 60\n"
     ]
    }
   ],
   "source": [
    "name={\"apple\":10,\"banana\":20,\"grape\":30}\n",
    "name.items()\n",
    "\n",
    "\n",
    "i=1\n",
    "n=6\n",
    "while i<=10:\n",
    "  print(n,\"*\",i,\"=\",n*i)\n",
    "  i=i+1"
   ]
  },
  {
   "cell_type": "code",
   "execution_count": 30,
   "metadata": {},
   "outputs": [
    {
     "name": "stdout",
     "output_type": "stream",
     "text": [
      "10 / 5 = 2.0\n",
      "15 / 5 = 3.0\n",
      "20 / 5 = 4.0\n",
      "25 / 5 = 5.0\n",
      "30 / 5 = 6.0\n",
      "35 / 5 = 7.0\n",
      "40 / 5 = 8.0\n",
      "45 / 5 = 9.0\n",
      "50 / 5 = 10.0\n"
     ]
    }
   ],
   "source": [
    "d=10\n",
    "n=5\n",
    "while d<=50:\n",
    "  print(d,\"/\",n,\"=\",d/n)\n",
    "  d=d+5"
   ]
  },
  {
   "cell_type": "code",
   "execution_count": 10,
   "metadata": {},
   "outputs": [
    {
     "name": "stdout",
     "output_type": "stream",
     "text": [
      "Even\n",
      "odd\n"
     ]
    }
   ],
   "source": [
    "def s(number):\n",
    "    \n",
    "    if number%2==0:\n",
    "\n",
    "      print(\"Even\")\n",
    "\n",
    "    else:\n",
    "       \n",
    "       print(\"odd\") \n",
    "\n",
    "\n",
    "s(4)\n",
    "s(15)\n",
    "  "
   ]
  },
  {
   "cell_type": "code",
   "execution_count": 1,
   "metadata": {},
   "outputs": [
    {
     "name": "stdout",
     "output_type": "stream",
     "text": [
      "The Cove Guest Home\n",
      "Please choose your transaction:\n",
      "1. Check Balance\n",
      "2. PAD resident from Bank\n",
      "3. Send letter to family members\n",
      "4. Exit\n"
     ]
    }
   ],
   "source": [
    "def Resident_comfortbook():\n",
    "   \n",
    "        print(\"The Cove Guest Home\")\n",
    "        print(\"Please choose your transaction:\")\n",
    "        print(\"1. Check Balance\")\n",
    "        print(\"2. PAD resident from Bank\")\n",
    "        print(\"3. Send letter to family members\")\n",
    "        print(\"4. Exit\")\n",
    "          \n",
    "        choice = input(\"Enter your choice (1/2/3/4): \")\n",
    "\n",
    "        while choice!=input(\"Enter your choice (1/2/3/4): \"):     \n",
    "        \n",
    "          if choice == '1':\n",
    "            print(\"Your balance is $100.\")  \n",
    "        \n",
    "          elif choice == '2':\n",
    "            pad_amount = float(input(\"Enter amount to withdraw: $\"))\n",
    "            if pad_amount > 0:\n",
    "                print(f\"Withdrawing ${pad_amount}...\")\n",
    "                print(\"Please take your cash.\")\n",
    "            else:\n",
    "                print(\"Invalid amount. Please enter a valid amount.\")\n",
    "        \n",
    "          elif choice == '3':\n",
    "            resident_amount = float(input(\"Enter amount to send: $\"))\n",
    "            if resident_amount > 0:\n",
    "                print(f\"Sending ${resident_amount}...\")\n",
    "                print(\"Send successful.\")\n",
    "            else:\n",
    "                print(\"Invalid amount. Please send a valid amount.\")\n",
    "        \n",
    "          elif choice == '4':\n",
    "            print(\"Exiting program. Goodbye!\")\n",
    "            break \n",
    "        \n",
    "        else:\n",
    "            print(\"Invalid choice. Please enter 1, 2, 3, or 4.\")\n",
    "\n",
    "\n",
    "Resident_comfortbook()"
   ]
  },
  {
   "cell_type": "code",
   "execution_count": 3,
   "metadata": {},
   "outputs": [
    {
     "data": {
      "text/plain": [
       "('hello', 'n\\\\mary')"
      ]
     },
     "execution_count": 3,
     "metadata": {},
     "output_type": "execute_result"
    }
   ],
   "source": [
    "s=\"hello\",\"n\\mary\"\n",
    "s"
   ]
  },
  {
   "cell_type": "code",
   "execution_count": 6,
   "metadata": {},
   "outputs": [
    {
     "name": "stdout",
     "output_type": "stream",
     "text": [
      "('hello', 'mary')\n"
     ]
    }
   ],
   "source": [
    "s=\"hello\",\"mary\"\n",
    "\n",
    "print(s)"
   ]
  },
  {
   "cell_type": "code",
   "execution_count": 1,
   "metadata": {},
   "outputs": [
    {
     "name": "stdout",
     "output_type": "stream",
     "text": [
      "The Cove Guest Home\n",
      "Please choose your transaction:\n",
      "1. Check Balance\n",
      "2. PAD resident from Bank\n",
      "3. Send letter to family members\n",
      "4. Exit\n",
      "Invalid choice. Please enter 1, 2, 3, or 4.\n",
      "Your balance is $100.\n",
      "Withdrawing $3.0...\n",
      "Please take your cash.\n"
     ]
    }
   ],
   "source": [
    "def Resident_comfortbook():\n",
    "    print(\"The Cove Guest Home\")\n",
    "    print(\"Please choose your transaction:\")\n",
    "    print(\"1. Check Balance\")\n",
    "    print(\"2. PAD resident from Bank\")\n",
    "    print(\"3. Send letter to family members\")\n",
    "    print(\"4. Exit\")\n",
    "    \n",
    "    while True:\n",
    "        choice = input(\"Enter your choice (1/2/3/4): \")\n",
    "        \n",
    "        if choice == '1':\n",
    "            print(\"Your balance is $100.\")\n",
    "        \n",
    "        elif choice == '2':\n",
    "            pad_amount = float(input(\"Enter amount to withdraw: $\"))\n",
    "            if pad_amount > 0:\n",
    "                print(f\"Withdrawing ${pad_amount}...\")\n",
    "                print(\"Please take your cash.\")\n",
    "            else:\n",
    "                print(\"Invalid amount. Please enter a valid amount.\")\n",
    "        \n",
    "        elif choice == '3':\n",
    "            resident_amount = float(input(\"Enter amount to send: $\"))\n",
    "            if resident_amount > 0:\n",
    "                print(f\"Sending ${resident_amount}...\")\n",
    "                print(\"Send successful.\")\n",
    "            else:\n",
    "                print(\"Invalid amount. Please send a valid amount.\")\n",
    "        \n",
    "        elif choice == '4':\n",
    "            print(\"Exiting program. Goodbye!\")\n",
    "            break\n",
    "        \n",
    "        else:\n",
    "            print(\"Invalid choice. Please enter 1, 2, 3, or 4.\")\n",
    "\n",
    "Resident_comfortbook()"
   ]
  },
  {
   "cell_type": "code",
   "execution_count": 3,
   "metadata": {},
   "outputs": [
    {
     "name": "stdout",
     "output_type": "stream",
     "text": [
      "this is addtion 25\n"
     ]
    }
   ],
   "source": [
    "s=12\n",
    "t=13\n",
    "u=s+t\n",
    "print(\"this is addtion\",u)"
   ]
  },
  {
   "cell_type": "code",
   "execution_count": 2,
   "metadata": {},
   "outputs": [
    {
     "data": {
      "text/plain": [
       "25"
      ]
     },
     "execution_count": 2,
     "metadata": {},
     "output_type": "execute_result"
    }
   ],
   "source": [
    "s=12\n",
    "t=13\n",
    "u=s+t\n",
    "u"
   ]
  },
  {
   "cell_type": "code",
   "execution_count": null,
   "metadata": {},
   "outputs": [],
   "source": []
  }
 ],
 "metadata": {
  "kernelspec": {
   "display_name": "Python 3",
   "language": "python",
   "name": "python3"
  },
  "language_info": {
   "codemirror_mode": {
    "name": "ipython",
    "version": 3
   },
   "file_extension": ".py",
   "mimetype": "text/x-python",
   "name": "python",
   "nbconvert_exporter": "python",
   "pygments_lexer": "ipython3",
   "version": "3.11.4"
  }
 },
 "nbformat": 4,
 "nbformat_minor": 2
}
